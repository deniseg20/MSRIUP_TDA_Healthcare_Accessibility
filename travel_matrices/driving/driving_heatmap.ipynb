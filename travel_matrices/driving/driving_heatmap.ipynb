{
 "cells": [
  {
   "cell_type": "markdown",
   "id": "d1adf5e7",
   "metadata": {},
   "source": [
    "# Creating Heatmap Visualization for Driving Matrix"
   ]
  },
  {
   "cell_type": "markdown",
   "id": "811c731d",
   "metadata": {},
   "source": [
    "### Importing necessary libraries"
   ]
  },
  {
   "cell_type": "code",
   "execution_count": null,
   "id": "01d3eb99",
   "metadata": {},
   "outputs": [],
   "source": [
    "import csv \n",
    "import pandas as pd\n",
    "import numpy as np\n",
    "import matplotlib.pyplot as plt\n",
    "import seaborn as sns"
   ]
  },
  {
   "cell_type": "markdown",
   "id": "b5dc4919",
   "metadata": {},
   "source": [
    "### Pulling in data"
   ]
  },
  {
   "cell_type": "code",
   "execution_count": null,
   "id": "e1f557df",
   "metadata": {},
   "outputs": [],
   "source": [
    "plt.style.use('default')\n",
    "sns.set_palette(\"viridis\")\n",
    "df = pd.read_csv('data.csv')"
   ]
  }
 ],
 "metadata": {
  "language_info": {
   "name": "python"
  }
 },
 "nbformat": 4,
 "nbformat_minor": 5
}
