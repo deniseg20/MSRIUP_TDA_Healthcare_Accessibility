{
 "cells": [
  {
   "cell_type": "markdown",
   "id": "833e4509",
   "metadata": {},
   "source": [
    "# Visualizing Data of FQHC and Planned Parenthood Locations"
   ]
  },
  {
   "cell_type": "code",
   "execution_count": null,
   "id": "c8289799",
   "metadata": {},
   "outputs": [],
   "source": [
    "import csv \n",
    "import pandas as pd\n",
    "import matplotlib.pyplot as plt "
   ]
  },
  {
   "cell_type": "code",
   "execution_count": null,
   "id": "ac495e18",
   "metadata": {},
   "outputs": [],
   "source": [
    "# Calling in the datasets \n",
    "# Data for FQHC locations\n",
    "fqhc_data = pd.read_csv('fqhc_data.csv')\n",
    "clean_fqhc = pd.read_csv('clean_fqhc.csv')\n",
    "\n",
    "# data for Planned Parenthood locations\n",
    "pp_data = pd.read_csv('ca_pp_data.csv')    \n"
   ]
  }
 ],
 "metadata": {
  "kernelspec": {
   "display_name": "Python 3",
   "language": "python",
   "name": "python3"
  },
  "language_info": {
   "codemirror_mode": {
    "name": "ipython",
    "version": 3
   },
   "file_extension": ".py",
   "mimetype": "text/x-python",
   "name": "python",
   "nbconvert_exporter": "python",
   "pygments_lexer": "ipython3",
   "version": "3.13.2"
  }
 },
 "nbformat": 4,
 "nbformat_minor": 5
}
