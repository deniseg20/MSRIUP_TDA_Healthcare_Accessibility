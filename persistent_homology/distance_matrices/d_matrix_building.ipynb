{
 "cells": [
  {
   "cell_type": "markdown",
   "metadata": {},
   "source": [
    "# Creating Distance Matrices"
   ]
  },
  {
   "cell_type": "code",
   "execution_count": 2,
   "metadata": {
    "colab": {
     "base_uri": "https://localhost:8080/",
     "height": 346
    },
    "id": "AUv90Ejml1SS",
    "outputId": "c5db59f5-a8f3-49ec-ea07-f4e286892bc6"
   },
   "outputs": [],
   "source": [
    "## Modules\n",
    "import geopandas as gpd\n",
    "import pandas as pd\n",
    "import numpy as np\n",
    "\n",
    "import json\n",
    "import urllib.request\n",
    "import geopandas as gpd\n",
    "import pandas as pd\n",
    "import numpy as np\n",
    "#import geopy.distance"
   ]
  },
  {
   "cell_type": "code",
   "execution_count": 64,
   "metadata": {},
   "outputs": [],
   "source": [
    "\n",
    "#cars_by_county = pd.read_csv(r'county_vr_proportions.csv', index_col = 0, header=0)\n",
    "#cars_by_county"
   ]
  },
  {
   "cell_type": "markdown",
   "metadata": {},
   "source": [
    "## All Locations (FQHCs and PPs)"
   ]
  },
  {
   "cell_type": "markdown",
   "metadata": {},
   "source": [
    "### Defining Functions"
   ]
  },
  {
   "cell_type": "code",
   "execution_count": null,
   "metadata": {},
   "outputs": [],
   "source": [
    "health_centers = pd.read_csv(r'facilities_w_county.csv', index_col = 0, header=0)\n",
    "health_centers.index.tolist()\n",
    "county_pop = pd.read_csv(r'county_vr_proportions.csv', index_col = 0, header = 0)"
   ]
  },
  {
   "cell_type": "code",
   "execution_count": 3,
   "metadata": {
    "id": "LAUFIeGGl4aI"
   },
   "outputs": [],
   "source": [
    "## Utils\n",
    "'''health_centers = pd.read_csv(r'facilities_w_county.csv', index_col = 0, header=0)\n",
    "health_centers.index.tolist()\n",
    "county_pop = pd.read_csv(r'county_vr_proportions.csv', index_col = 0, header = 0)'''\n",
    "\n",
    "def get_county(site, health_centers):\n",
    "    return health_centers.loc[site]['county']\n",
    "def get_pop(county_name):\n",
    "    # Remove \"County\" from the end and convert to lowercase for matching\n",
    "    county_normalized = county_name.lower().replace(\" county\", \"\").strip()\n",
    "    \n",
    "    # Find matching county in county_pop dataframe (case-insensitive)\n",
    "    county_match = county_pop[county_pop['Counties'].str.lower() == county_normalized]\n",
    "    \n",
    "    # Check if match was found\n",
    "    if county_match.empty:\n",
    "        print(f\"No match found for county: {county_name} (normalized: {county_normalized})\")\n",
    "        return 0  # Return 0 instead of None\n",
    "    \n",
    "    # Return the population value\n",
    "    return int(county_match['Total_Population'].iloc[0])\n",
    "def get_car_prop(site, health_centers):\n",
    "    county = get_county(site, health_centers)\n",
    "    # Remove \"County\" from the end and convert to lowercase for matching\n",
    "    county_normalized = county.lower().replace(\" county\", \"\").strip()\n",
    "    \n",
    "    # Find the car proportion for this county in county_pop\n",
    "    county_match = county_pop[county_pop['Counties'].str.lower() == county_normalized]\n",
    "    \n",
    "    if county_match.empty:\n",
    "        print(f\"No match found for county: {county} (normalized: {county_normalized})\")\n",
    "        return 0.0  # Return a default value instead of None\n",
    "    \n",
    "    return county_match['Vehicle_Registration_Proportion'].iloc[0]\n",
    "\n",
    "\n",
    "'''def get_county(site, health_centers): #changed from get_zip to get_county\n",
    "    #return health_centers.loc[site]['county']\n",
    "    county = get_county(site, health_centers)\n",
    "    # Find the car proportion for this county in county_pop\n",
    "    county_match = county_pop[county_pop['Counties'].str.lower() == county.lower()]\n",
    "    if county_match.empty:\n",
    "        print(f\"No match found for county: {county}\")\n",
    "        return None\n",
    "    return county_match['Vehicle_Registration_Proportion'].iloc[0]'''\n",
    "\n",
    "def calc_dtilde_matrix(health_centers, t_car, t_pub, t_walk):\n",
    "    N = health_centers.shape[0]\n",
    "    dtilde_matrix = np.zeros((N,N))\n",
    "    \n",
    "    index_to_pos = {idx: pos for pos, idx in enumerate(health_centers.index)}\n",
    "    \n",
    "    for i, a in health_centers.iterrows():\n",
    "        for j, b in health_centers.iterrows():\n",
    "            if i != j:\n",
    "                # for walking \n",
    "                pos_i = index_to_pos[i]\n",
    "                pos_j = index_to_pos[j]\n",
    "                \n",
    "                if (t_walk.iloc[pos_i,pos_j] == 0 and t_walk.iloc[pos_j,pos_i] == 0):\n",
    "                    walk = 0\n",
    "                elif t_walk.iloc[pos_i,pos_j]==0:\n",
    "                    walk=2*t_walk[pos_j,i]\n",
    "                elif t_walk.iloc[pos_j,pos_i] == 0:\n",
    "                    walk=2*t_walk.iloc[pos_i, pos_j]\n",
    "                else: \n",
    "                    walk = t_walk.iloc[pos_i,pos_j] + t_walk.iloc[pos_j,pos_i] \n",
    "                # for public transport\n",
    "                if t_pub.iloc[pos_i,pos_j] == 0 and t_pub.iloc[pos_j,pos_i] == 0:\n",
    "                    pub = 0\n",
    "                elif t_pub.iloc[pos_i,pos_j] == 0:\n",
    "                    pub = 2*t_pub.iloc[pos_j,pos_i]\n",
    "                elif t_pub.iloc[pos_j,pos_i] == 0:\n",
    "                    pub = 2*t_pub.iloc[pos_i,pos_j]\n",
    "                else:\n",
    "                    pub = t_pub.iloc[pos_i,pos_j] + t_pub.iloc[pos_j,pos_i]\n",
    "                # for car\n",
    "                if t_car.iloc[pos_i,pos_j] == 0 and t_car.iloc[pos_j,pos_i] == 0:\n",
    "                    car = 0\n",
    "                elif t_car.iloc[pos_i,pos_j] == 0:\n",
    "                    car = 2*t_car.iloc[pos_j,pos_i]\n",
    "                elif t_car.iloc[pos_j,pos_i] == 0:\n",
    "                    car=2*t_car.iloc[pos_i,pos_j]\n",
    "                else:\n",
    "                    car = t_car.iloc[pos_i,pos_j] + t_car.iloc[pos_j,pos_i]\n",
    "                    \n",
    "                driver_min = min(walk, pub, car)\n",
    "                non_driver_min = min(walk, pub)\n",
    "                car_prop = get_car_prop(i, health_centers)\n",
    "                \n",
    "                dtilde_matrix[pos_i,pos_j] = car_prop*driver_min + (1-car_prop)*non_driver_min\n",
    "    return dtilde_matrix\n",
    "\n",
    "def calc_d_matrix(dtilde_matrix, health_centers):\n",
    "    N = health_centers.shape[0]\n",
    "    d_matrix = np.zeros((N,N))\n",
    "    index_to_pos = {idx: pos for pos, idx in enumerate(health_centers.index)}\n",
    "    \n",
    "    for i, a in health_centers.iterrows():\n",
    "        for j, b in health_centers.iterrows():\n",
    "            if i != j:\n",
    "                pos_i = index_to_pos[i]\n",
    "                pos_j = index_to_pos[j]\n",
    "                county_i = get_county(i, health_centers)\n",
    "                county_j = get_county(j, health_centers)\n",
    "                \n",
    "                #popi = get_pop(county_i)\n",
    "                #popj = get_pop(county_j)\n",
    "                popi = get_pop(county_i) # ERROR\n",
    "                popj = get_pop(county_j)\n",
    "                if popi == 0 and popj == 0:\n",
    "                    d_matrix[pos_i,pos_j] = 0\n",
    "                elif popi == 0:\n",
    "                    d_matrix[pos_i,pos_j] = dtilde_matrix[pos_j,pos_i]\n",
    "                elif popj == 0:\n",
    "                    d_matrix[pos_i,pos_j] = dtilde_matrix[pos_i,pos_j]\n",
    "                else:\n",
    "                    d_matrix[pos_i,pos_j] = (1/(popi+popj))*(popi*dtilde_matrix[pos_i,pos_j] + popj*dtilde_matrix[pos_j,pos_i])\n",
    "\n",
    "    return d_matrix"
   ]
  },
  {
   "cell_type": "code",
   "execution_count": 13,
   "metadata": {
    "id": "Ux-dp2DRmN_2"
   },
   "outputs": [],
   "source": [
    "health_centers = pd.read_csv('facilities_w_county.csv',\n",
    "                        index_col=0,\n",
    "                        header=0)"
   ]
  },
  {
   "cell_type": "markdown",
   "metadata": {},
   "source": [
    "### Distance Matrix for all 411 locations"
   ]
  },
  {
   "cell_type": "code",
   "execution_count": null,
   "metadata": {
    "id": "NL9gxx61mt-w"
   },
   "outputs": [],
   "source": [
    "t_car = pd.read_csv(\"drive_matrix_all.csv\",\n",
    "                        index_col=0,\n",
    "                        header=0)\n",
    "t_pub = pd.read_csv(\"transit_matrix_all.csv\",\n",
    "                        index_col=0,\n",
    "                        header=0)\n",
    "# slc_twalk = calc_twalk_matrix(slc_sites, slc_neighbours)\n",
    "t_walk = pd.read_csv(\"walking_matrix_all.csv\",\n",
    "                        index_col=0,\n",
    "                        header=0)"
   ]
  },
  {
   "cell_type": "code",
   "execution_count": 54,
   "metadata": {
    "id": "8l-H5ZNPm5bv"
   },
   "outputs": [],
   "source": [
    "all_loc_dtilde = calc_dtilde_matrix(health_centers, t_car, t_pub, t_walk)\n",
    "all_loc_d_matrix = calc_d_matrix(all_loc_dtilde, health_centers)"
   ]
  },
  {
   "cell_type": "markdown",
   "metadata": {},
   "source": [
    "### Loading matrix and saving to CSV for All Locations"
   ]
  },
  {
   "cell_type": "code",
   "execution_count": 1,
   "metadata": {},
   "outputs": [
    {
     "ename": "NameError",
     "evalue": "name 'np' is not defined",
     "output_type": "error",
     "traceback": [
      "\u001b[31m---------------------------------------------------------------------------\u001b[39m",
      "\u001b[31mNameError\u001b[39m                                 Traceback (most recent call last)",
      "\u001b[36mCell\u001b[39m\u001b[36m \u001b[39m\u001b[32mIn[1]\u001b[39m\u001b[32m, line 1\u001b[39m\n\u001b[32m----> \u001b[39m\u001b[32m1\u001b[39m \u001b[43mnp\u001b[49m.save(\u001b[33m\"\u001b[39m\u001b[33mall_d_matrix.npy\u001b[39m\u001b[33m\"\u001b[39m, all_loc_d_matrix) \n",
      "\u001b[31mNameError\u001b[39m: name 'np' is not defined"
     ]
    }
   ],
   "source": [
    "#np.save(\"all_d_matrix.npy\", all_loc_d_matrix) "
   ]
  },
  {
   "cell_type": "code",
   "execution_count": null,
   "metadata": {},
   "outputs": [
    {
     "name": "stdout",
     "output_type": "stream",
     "text": [
      "   0    1           2    3           4           5    6    7    8    9    ...  \\\n",
      "0  0.0  NaN         NaN  NaN         NaN         NaN  NaN  NaN  NaN  NaN  ...   \n",
      "1  NaN  0.0         NaN  NaN         NaN         NaN  NaN  NaN  NaN  NaN  ...   \n",
      "2  NaN  NaN    0.000000  NaN  903.671334         NaN  NaN  NaN  NaN  NaN  ...   \n",
      "3  NaN  NaN         NaN  0.0         NaN         NaN  NaN  NaN  NaN  NaN  ...   \n",
      "4  NaN  NaN  903.671334  NaN    0.000000  245.742626  NaN  NaN  NaN  NaN  ...   \n",
      "\n",
      "   401         402        403  404  405  406  407  408  409         410  \n",
      "0  NaN         NaN        NaN  NaN  NaN  NaN  NaN  NaN  NaN  696.437903  \n",
      "1  NaN         NaN        NaN  NaN  NaN  NaN  NaN  NaN  NaN         NaN  \n",
      "2  NaN  232.914218        NaN  NaN  NaN  NaN  NaN  NaN  NaN         NaN  \n",
      "3  NaN         NaN  88.047353  NaN  NaN  NaN  NaN  NaN  NaN         NaN  \n",
      "4  NaN  150.470140        NaN  NaN  NaN  NaN  NaN  NaN  NaN         NaN  \n",
      "\n",
      "[5 rows x 411 columns]\n",
      "   0    1           2    3           4           5    6    7    8    9    ...  \\\n",
      "0  0.0  0.0    0.000000  0.0    0.000000    0.000000  0.0  0.0  0.0  0.0  ...   \n",
      "1  0.0  0.0    0.000000  0.0    0.000000    0.000000  0.0  0.0  0.0  0.0  ...   \n",
      "2  0.0  0.0    0.000000  0.0  903.671334    0.000000  0.0  0.0  0.0  0.0  ...   \n",
      "3  0.0  0.0    0.000000  0.0    0.000000    0.000000  0.0  0.0  0.0  0.0  ...   \n",
      "4  0.0  0.0  903.671334  0.0    0.000000  245.742626  0.0  0.0  0.0  0.0  ...   \n",
      "\n",
      "   401         402        403  404  405  406  407  408  409         410  \n",
      "0  0.0    0.000000   0.000000  0.0  0.0  0.0  0.0  0.0  0.0  696.437903  \n",
      "1  0.0    0.000000   0.000000  0.0  0.0  0.0  0.0  0.0  0.0    0.000000  \n",
      "2  0.0  232.914218   0.000000  0.0  0.0  0.0  0.0  0.0  0.0    0.000000  \n",
      "3  0.0    0.000000  88.047353  0.0  0.0  0.0  0.0  0.0  0.0    0.000000  \n",
      "4  0.0  150.470140   0.000000  0.0  0.0  0.0  0.0  0.0  0.0    0.000000  \n",
      "\n",
      "[5 rows x 411 columns]\n"
     ]
    }
   ],
   "source": [
    "data = np.load(\"all_loc_d_matrix.npy\")\n",
    "df = pd.DataFrame(data)\n",
    "print(df.head())\n",
    "df = df.fillna(0)\n",
    "print(df.head())\n",
    "df.to_csv('dtilde_matrix_all.csv', index=False)"
   ]
  },
  {
   "cell_type": "markdown",
   "metadata": {},
   "source": [
    "### Distance Matrix for FQHCs only"
   ]
  },
  {
   "cell_type": "code",
   "execution_count": 22,
   "metadata": {},
   "outputs": [
    {
     "name": "stdout",
     "output_type": "stream",
     "text": [
      "                                              address          census tract  \\\n",
      "FQHC 297   9436 E Slauson Ave,Pico Rivera,Los Angeles  Census Tract 5026.03   \n",
      "FQHC 298               950 Circle Dr,Salinas,Monterey     Census Tract 5.02   \n",
      "FQHC 299         950 S Euclid Ave,San Diego,San Diego    Census Tract 33.05   \n",
      "FQHC 300          9933 MacArthur Blvd,Oakland,Alameda     Census Tract 4102   \n",
      "FQHC 301  995 Potrero Ave,San Francisco,San Francisco   Census Tract 228.02   \n",
      "\n",
      "                        county                         coordinates  \n",
      "FQHC 297    Los Angeles County  -118.096877042234, 33.968377302046  \n",
      "FQHC 298       Monterey County  -121.626232969408, 36.679436931946  \n",
      "FQHC 299      San Diego County  -117.085175971449, 32.696326773932  \n",
      "FQHC 300        Alameda County  -122.156742443935, 37.746482609226  \n",
      "FQHC 301  San Francisco County   -122.40663821554, 37.756926145551  \n"
     ]
    }
   ],
   "source": [
    "health_centers = pd.read_csv(r'facilities_w_county.csv', index_col = 0, header=0, nrows=301)\n",
    "print(health_centers.tail())\n",
    "health_centers.index.tolist()\n",
    "county_pop = pd.read_csv(r'county_vr_proportions.csv', index_col = 0, header = 0)"
   ]
  },
  {
   "cell_type": "code",
   "execution_count": null,
   "metadata": {},
   "outputs": [],
   "source": [
    "# changing xlsx to csv \n",
    "df = pd.read_excel(\"drive_minutes_matrix_fqhc.xlsx\", index_col=0, header=0, nrows = 301, )\n",
    "df.to_csv(\"drive_minutes_matrix_fqhc.csv\",index = True)\n",
    "data = pd.read_csv(\"drive_minutes_matrix_fqhc.csv\", index_col=0, header=0, nrows=301)\n",
    "data = data.fillna(0)"
   ]
  },
  {
   "cell_type": "code",
   "execution_count": null,
   "metadata": {},
   "outputs": [
    {
     "name": "stdout",
     "output_type": "stream",
     "text": [
      "       FQHC1  FQHC2      FQHC3  FQHC4      FQHC5      FQHC6  FQHC7  FQHC8  \\\n",
      "FQHC1    0.0    0.0   0.000000    0.0   0.000000   0.000000    0.0    0.0   \n",
      "FQHC2    0.0    0.0   0.000000    0.0   0.000000   0.000000    0.0    0.0   \n",
      "FQHC3    0.0    0.0   0.000000    0.0  72.633333  75.533333    0.0    0.0   \n",
      "FQHC4    0.0    0.0   0.000000    0.0   0.000000   0.000000    0.0    0.0   \n",
      "FQHC5    0.0    0.0  73.583333    0.0   0.000000  62.116667    0.0    0.0   \n",
      "\n",
      "       FQHC9  FQHC10  ...  FQHC293  FQHC294    FQHC295    FQHC296  FQHC297  \\\n",
      "FQHC1    0.0     0.0  ...      0.0      0.0  52.766667   0.000000      0.0   \n",
      "FQHC2    0.0     0.0  ...      0.0      0.0   0.000000   0.000000      0.0   \n",
      "FQHC3    0.0     0.0  ...      0.0      0.0   0.000000  84.533333      0.0   \n",
      "FQHC4    0.0     0.0  ...      0.0      0.0   0.000000   0.000000      0.0   \n",
      "FQHC5    0.0     0.0  ...      0.0      0.0   0.000000  31.183333      0.0   \n",
      "\n",
      "       FQHC298    FQHC299  FQHC300  FQHC301  \\\n",
      "FQHC1      0.0   0.000000      0.0      0.0   \n",
      "FQHC2      0.0   0.000000      0.0      0.0   \n",
      "FQHC3      0.0   0.000000      0.0      0.0   \n",
      "FQHC4      0.0  37.566667      0.0      0.0   \n",
      "FQHC5      0.0   0.000000      0.0      0.0   \n",
      "\n",
      "       >>>>>>> a8fed069e83b261ebb5fea78dfd573ee0d8885fc:Coordinates_FQHC_address.csv  \n",
      "FQHC1                                                0.0                              \n",
      "FQHC2                                                0.0                              \n",
      "FQHC3                                                0.0                              \n",
      "FQHC4                                                0.0                              \n",
      "FQHC5                                                0.0                              \n",
      "\n",
      "[5 rows x 302 columns]\n",
      "       FQHC1  FQHC2      FQHC3  FQHC4      FQHC5      FQHC6  FQHC7  FQHC8  \\\n",
      "FQHC1    0.0    0.0   0.000000    0.0   0.000000   0.000000    0.0    0.0   \n",
      "FQHC2    0.0    0.0   0.000000    0.0   0.000000   0.000000    0.0    0.0   \n",
      "FQHC3    0.0    0.0   0.000000    0.0  72.633333  75.533333    0.0    0.0   \n",
      "FQHC4    0.0    0.0   0.000000    0.0   0.000000   0.000000    0.0    0.0   \n",
      "FQHC5    0.0    0.0  73.583333    0.0   0.000000  62.116667    0.0    0.0   \n",
      "\n",
      "       FQHC9  FQHC10  ...  FQHC293  FQHC294    FQHC295    FQHC296  FQHC297  \\\n",
      "FQHC1    0.0     0.0  ...      0.0      0.0  52.766667   0.000000      0.0   \n",
      "FQHC2    0.0     0.0  ...      0.0      0.0   0.000000   0.000000      0.0   \n",
      "FQHC3    0.0     0.0  ...      0.0      0.0   0.000000  84.533333      0.0   \n",
      "FQHC4    0.0     0.0  ...      0.0      0.0   0.000000   0.000000      0.0   \n",
      "FQHC5    0.0     0.0  ...      0.0      0.0   0.000000  31.183333      0.0   \n",
      "\n",
      "       FQHC298    FQHC299  FQHC300  FQHC301  \\\n",
      "FQHC1      0.0   0.000000      0.0      0.0   \n",
      "FQHC2      0.0   0.000000      0.0      0.0   \n",
      "FQHC3      0.0   0.000000      0.0      0.0   \n",
      "FQHC4      0.0  37.566667      0.0      0.0   \n",
      "FQHC5      0.0   0.000000      0.0      0.0   \n",
      "\n",
      "       >>>>>>> a8fed069e83b261ebb5fea78dfd573ee0d8885fc:Coordinates_FQHC_address.csv  \n",
      "FQHC1                                                0.0                              \n",
      "FQHC2                                                0.0                              \n",
      "FQHC3                                                0.0                              \n",
      "FQHC4                                                0.0                              \n",
      "FQHC5                                                0.0                              \n",
      "\n",
      "[5 rows x 302 columns]\n"
     ]
    }
   ],
   "source": [
    "print(data.head())\n",
    "data.to_csv(\"drive_matrix_fqhc.csv\")\n"
   ]
  },
  {
   "cell_type": "code",
   "execution_count": 31,
   "metadata": {},
   "outputs": [
    {
     "name": "stdout",
     "output_type": "stream",
     "text": [
      "       Unnamed: 0  FQHC1      FQHC2  FQHC3      FQHC4      FQHC5  FQHC6  \\\n",
      "FQHC1         0.0    0.0   0.000000    0.0   0.000000   0.000000    0.0   \n",
      "FQHC2         0.0    0.0   0.000000    0.0   0.000000   0.000000    0.0   \n",
      "FQHC3         0.0    0.0   0.000000    0.0  72.633333  75.533333    0.0   \n",
      "FQHC4         0.0    0.0   0.000000    0.0   0.000000   0.000000    0.0   \n",
      "FQHC5         0.0    0.0  73.583333    0.0   0.000000  62.116667    0.0   \n",
      "\n",
      "       FQHC7  FQHC8  FQHC9  ...  FQHC292  FQHC293    FQHC294    FQHC295  \\\n",
      "FQHC1    0.0    0.0    0.0  ...      0.0      0.0  52.766667   0.000000   \n",
      "FQHC2    0.0    0.0    0.0  ...      0.0      0.0   0.000000   0.000000   \n",
      "FQHC3    0.0    0.0    0.0  ...      0.0      0.0   0.000000  84.533333   \n",
      "FQHC4    0.0    0.0    0.0  ...      0.0      0.0   0.000000   0.000000   \n",
      "FQHC5    0.0    0.0    0.0  ...      0.0      0.0   0.000000  31.183333   \n",
      "\n",
      "       FQHC296  FQHC297    FQHC298  FQHC299  FQHC300  FQHC301  \n",
      "FQHC1      0.0      0.0   0.000000      0.0      0.0      0.0  \n",
      "FQHC2      0.0      0.0   0.000000      0.0      0.0      0.0  \n",
      "FQHC3      0.0      0.0   0.000000      0.0      0.0      0.0  \n",
      "FQHC4      0.0      0.0  37.566667      0.0      0.0      0.0  \n",
      "FQHC5      0.0      0.0   0.000000      0.0      0.0      0.0  \n",
      "\n",
      "[5 rows x 302 columns]\n"
     ]
    }
   ],
   "source": [
    "data = pd.read_csv(\"drive_matrix_fqhc.csv\")\n",
    "print(data.head())"
   ]
  },
  {
   "cell_type": "code",
   "execution_count": 32,
   "metadata": {},
   "outputs": [],
   "source": [
    "fqhc_t_car = pd.read_csv(\"drive_matrix_fqhc.csv\",\n",
    "                        index_col=0,\n",
    "                        header=0)\n",
    "fqhc_t_pub = pd.read_csv(\"transit_matrix_fqhc.csv\",\n",
    "                        index_col=0,\n",
    "                        header=0)\n",
    "fqhc_t_walk = pd.read_csv(\"walking_matrix_fqhc.csv\",\n",
    "                        index_col=0,\n",
    "                        header=0)"
   ]
  },
  {
   "cell_type": "code",
   "execution_count": 33,
   "metadata": {},
   "outputs": [],
   "source": [
    "fqhc_loc_dtilde = calc_dtilde_matrix(health_centers, fqhc_t_car, fqhc_t_pub, fqhc_t_walk)\n",
    "fqhc_loc_d_matrix = calc_d_matrix(fqhc_loc_dtilde, health_centers)"
   ]
  },
  {
   "cell_type": "code",
   "execution_count": 34,
   "metadata": {},
   "outputs": [
    {
     "name": "stdout",
     "output_type": "stream",
     "text": [
      "   0    1           2    3           4           5    6    7    8    9    ...  \\\n",
      "0  0.0  NaN         NaN  NaN         NaN         NaN  NaN  NaN  NaN  NaN  ...   \n",
      "1  NaN  0.0         NaN  NaN         NaN         NaN  NaN  NaN  NaN  NaN  ...   \n",
      "2  NaN  NaN    0.000000  NaN  448.153359  352.401819  NaN  NaN  NaN  NaN  ...   \n",
      "3  NaN  NaN         NaN  0.0         NaN         NaN  NaN  NaN  NaN  NaN  ...   \n",
      "4  NaN  NaN  448.153359  NaN    0.000000  231.225947  NaN  NaN  NaN  NaN  ...   \n",
      "\n",
      "   291  292  293         294          295  296  297         298  299  300  \n",
      "0  NaN  NaN  NaN  207.710656          NaN  NaN  NaN         NaN  NaN  NaN  \n",
      "1  NaN  NaN  NaN         NaN          NaN  NaN  NaN         NaN  NaN  NaN  \n",
      "2  NaN  NaN  NaN         NaN  1612.595538  NaN  NaN         NaN  NaN  NaN  \n",
      "3  NaN  NaN  NaN         NaN          NaN  NaN  NaN  133.307777  NaN  NaN  \n",
      "4  NaN  NaN  NaN         NaN   494.248162  NaN  NaN         NaN  NaN  NaN  \n",
      "\n",
      "[5 rows x 301 columns]\n",
      "   0    1           2    3           4           5    6    7    8    9    ...  \\\n",
      "0  0.0  0.0    0.000000  0.0    0.000000    0.000000  0.0  0.0  0.0  0.0  ...   \n",
      "1  0.0  0.0    0.000000  0.0    0.000000    0.000000  0.0  0.0  0.0  0.0  ...   \n",
      "2  0.0  0.0    0.000000  0.0  448.153359  352.401819  0.0  0.0  0.0  0.0  ...   \n",
      "3  0.0  0.0    0.000000  0.0    0.000000    0.000000  0.0  0.0  0.0  0.0  ...   \n",
      "4  0.0  0.0  448.153359  0.0    0.000000  231.225947  0.0  0.0  0.0  0.0  ...   \n",
      "\n",
      "   291  292  293         294          295  296  297         298  299  300  \n",
      "0  0.0  0.0  0.0  207.710656     0.000000  0.0  0.0    0.000000  0.0  0.0  \n",
      "1  0.0  0.0  0.0    0.000000     0.000000  0.0  0.0    0.000000  0.0  0.0  \n",
      "2  0.0  0.0  0.0    0.000000  1612.595538  0.0  0.0    0.000000  0.0  0.0  \n",
      "3  0.0  0.0  0.0    0.000000     0.000000  0.0  0.0  133.307777  0.0  0.0  \n",
      "4  0.0  0.0  0.0    0.000000   494.248162  0.0  0.0    0.000000  0.0  0.0  \n",
      "\n",
      "[5 rows x 301 columns]\n"
     ]
    }
   ],
   "source": [
    "np.save(\"fqhc_d_matrix.npy\", fqhc_loc_d_matrix) \n",
    "data = np.load(\"fqhc_d_matrix.npy\")\n",
    "df = pd.DataFrame(data)\n",
    "print(df.head())\n",
    "df = df.fillna(0)\n",
    "print(df.head())\n",
    "df.to_csv('dtilde_matrix_fqhc.csv', index=False)"
   ]
  }
 ],
 "metadata": {
  "colab": {
   "collapsed_sections": [],
   "name": "d_matrix_building.ipynb",
   "provenance": []
  },
  "kernelspec": {
   "display_name": "Python 3",
   "language": "python",
   "name": "python3"
  },
  "language_info": {
   "codemirror_mode": {
    "name": "ipython",
    "version": 3
   },
   "file_extension": ".py",
   "mimetype": "text/x-python",
   "name": "python",
   "nbconvert_exporter": "python",
   "pygments_lexer": "ipython3",
   "version": "3.13.2"
  }
 },
 "nbformat": 4,
 "nbformat_minor": 1
}
