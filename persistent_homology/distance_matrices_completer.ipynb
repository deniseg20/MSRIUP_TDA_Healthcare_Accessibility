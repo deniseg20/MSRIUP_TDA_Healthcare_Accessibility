{
 "cells": [
  {
   "cell_type": "markdown",
   "metadata": {},
   "source": [
    "Computes completed travel time matrix, with missing distances filled in by computing shortest paths."
   ]
  },
  {
   "cell_type": "code",
   "execution_count": null,
   "metadata": {
    "id": "De6gKlXHnSVO"
   },
   "outputs": [],
   "source": [
    "import numpy as np\n",
    "import networkx as nx\n",
    "\n",
    "def complete_tmatrix(citypath, city, mode):\n",
    "    '''\n",
    "    citypath: string. path where data/travel time matrices are stored. \n",
    "        In TDA for Resource Access Drive, this is one of {Atlanta, Chicago, Jacksonville, Los Angeles, NYC, Salt Lake City}.\n",
    "    city: {atl, chc, jax, lac, manbronx, queensbrook, stat, slc}\n",
    "        Each time travel matrix for the city (for mode = car or pub) should be of the form citypath + f\"/{city}_t{mode}_matrix.csv\"\n",
    "    mode: {car, pub}. Form of transportation.\n",
    "    \n",
    "    Computes completed travel time matrix, with missing distances filled in by computing shortest paths.\n",
    "        Saves to citypath + f\"/{city}_t{mode}_matrix_completed.npy\"\n",
    "    '''\n",
    "    matrix_path = citypath + f'/{city}_t{mode}_matrix.csv'\n",
    "    tmatrix = np.genfromtxt(matrix_path, delimiter=',')\n",
    "    G_mode = nx.from_numpy_matrix(tmatrix, create_using = nx.DiGraph()) # G_{mode}, as defined in overleaf for mode = car or pub\n",
    "    tmatrix = nx.algorithms.shortest_paths.dense.floyd_warshall_numpy(G_mode)\n",
    "    np.save(citypath + f\"/{city}_t{mode}_matrix_completed.npy\", tmatrix)\n",
    "    \n",
    "def d_tilde_matrix(citypath, city):\n",
    "    '''\n",
    "    citypath: string. path where data/travel time matrices are stored\n",
    "        In TDA for Resource Access Drive, this is one of {Atlanta, Chicago, Jacksonville, Los Angeles, NYC, Salt Lake City}.\n",
    "    city: {atl, chc, jax, lac, manbronx, queensbrook, stat, slc}.\n",
    "        The walk time matrix file for the city should be of the form citypath + f\"/{city}_twalk_matrix.csv\"\n",
    "        The completed travel time matrix files for the city (for mode = pub or car) should be of the form citypath + f\"/{city}_t{mode}_matrix_completed.npy \n",
    "    \n",
    "    Computes d_tilde matrix (as defined in overleaf). Assume that the completed travel time matrices are already computed.\n",
    "        Saves to citypath + f\"{city}_dtilde.npy\"\n",
    "    '''\n",
    "    return\n",
    "    \n",
    "    \n",
    "def d_matrix(citypath, city):\n",
    "    '''\n",
    "    citypath: string. path where data/travel time matrices are stored\n",
    "        In TDA for Resource Access Drive, this is one of {Atlanta, Chicago, Jacksonville, Los Angeles, NYC, Salt Lake City}.\n",
    "    city: {atl, chc, jax, lac, manbronx, queensbrook, stat, slc}.\n",
    "        The (asymmetric) d_tilde matrix file should be of the form citypath + f\"/{city}_dtilde.npy\"\n",
    "    \n",
    "    Computes (symmetric) d_matrix (as defined in overleaf).\n",
    "        Saves to citypath + f\"{city}_d_matrix.npy\"\n",
    "    '''\n",
    "    return\n",
    "    "
   ]
  },
  {
   "cell_type": "code",
   "execution_count": null,
   "metadata": {
    "id": "PdQlxAK9nSVS",
    "outputId": "3fd85a03-61d5-4942-f856-e046cc9d0545"
   },
   "outputs": [
    {
     "name": "stdout",
     "output_type": "stream",
     "text": [
      "[[0. 1. 1.]\n",
      " [2. 0. 2.]\n",
      " [3. 4. 0.]]\n"
     ]
    },
    {
     "data": {
      "image/png": "[encoded data removed]",
      "text/plain": [
       "<Figure size 432x288 with 1 Axes>"
      ]
     },
     "metadata": {},
     "output_type": "display_data"
    }
   ],
   "source": [
    "# Testing shortest weighted path calculation\n",
    "A = np.array([[0, 1, 1], [2, 0, 2], [3, 0, 0]])\n",
    "G = nx.from_numpy_matrix(A, create_using = nx.DiGraph())\n",
    "nx.draw(G, with_labels = True)\n",
    "D = nx.algorithms.shortest_paths.dense.floyd_warshall_numpy(G)\n",
    "print(D)"
   ]
  },
  {
   "cell_type": "markdown",
   "metadata": {
    "id": "m6QB-_A4nSVT"
   },
   "source": [
    "Complete travel time matrices and save results. Only needs to be run once."
   ]
  },
  {
   "cell_type": "code",
   "execution_count": null,
   "metadata": {
    "id": "8KeDZ8s_nSVV"
   },
   "outputs": [],
   "source": [
    "modes = {'car', 'pub'}\n",
    "\n",
    "# Everything but NYC\n",
    "citypaths = ['Atlanta', 'Chicago', 'Jacksonville', 'Los Angeles', 'Salt Lake City']\n",
    "cities = ['atl', 'chc', 'jax', 'lac', 'slc']\n",
    "for i in range(5):\n",
    "    for mode in modes:\n",
    "        complete_tmatrix(citypaths[i], cities[i], mode)\n",
    "\n",
    "# NYC\n",
    "cities = ['manbronx', 'queensbrook', 'stat']\n",
    "for city in cities:\n",
    "    for mode in modes:\n",
    "        complete_tmatrix(\"NYC\", city, mode)"
   ]
  }
 ],
 "metadata": {
  "colab": {
   "name": "distance_matrices.ipynb",
   "provenance": []
  },
  "kernelspec": {
   "display_name": "Python 3 (ipykernel)",
   "language": "python",
   "name": "python3"
  },
  "language_info": {
   "codemirror_mode": {
    "name": "ipython",
    "version": 3
   },
   "file_extension": ".py",
   "mimetype": "text/x-python",
   "name": "python",
   "nbconvert_exporter": "python",
   "pygments_lexer": "ipython3",
   "version": "3.7.13"
  }
 },
 "nbformat": 4,
 "nbformat_minor": 1
}
